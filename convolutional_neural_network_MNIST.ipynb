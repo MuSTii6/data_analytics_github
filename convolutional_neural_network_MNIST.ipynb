{
 "cells": [
  {
   "cell_type": "markdown",
   "id": "7eaca0d5",
   "metadata": {},
   "source": [
    "# Handwritten digits classification using a Neural Network\n",
    "<br>\n",
    "<img src=\"https://miro.medium.com/max/800/1*LyRlX__08q40UJohhJG9Ow.png\" align=\"left\" width=\"50%\">"
   ]
  },
  {
   "cell_type": "markdown",
   "id": "c74aed52",
   "metadata": {},
   "source": [
    "## Libraries and settings"
   ]
  },
  {
   "cell_type": "code",
   "execution_count": 1,
   "id": "b54699b5",
   "metadata": {},
   "outputs": [
    {
     "name": "stdout",
     "output_type": "stream",
     "text": [
      "Current working directory: C:\\Users\\muzdi\\anaconda3\\Jupyter_Exercises\\SW12\\data_analytics_github\n"
     ]
    }
   ],
   "source": [
    "# Required libraries:\n",
    "# !pip install tensorflow\n",
    "\n",
    "import os\n",
    "import numpy as np\n",
    "import matplotlib.pyplot as plt\n",
    "\n",
    "from tensorflow import keras\n",
    "from tensorflow.keras import layers\n",
    "\n",
    "from sklearn.metrics import accuracy_score\n",
    "from sklearn.metrics import confusion_matrix\n",
    "from sklearn.metrics import classification_report\n",
    "\n",
    "# Ignore warnings\n",
    "import warnings\n",
    "warnings.filterwarnings('ignore')\n",
    "\n",
    "# Current working directory\n",
    "print('Current working directory:', os.getcwd())"
   ]
  },
  {
   "cell_type": "markdown",
   "id": "091c0d6c",
   "metadata": {},
   "source": [
    "## Prepare the data (MNIST dataset)\n",
    "For details of the data see: https://en.wikipedia.org/wiki/MNIST_database"
   ]
  },
  {
   "cell_type": "code",
   "execution_count": 2,
   "id": "55992e62",
   "metadata": {},
   "outputs": [
    {
     "name": "stdout",
     "output_type": "stream",
     "text": [
      "60000 train samples\n",
      "10000 test samples\n"
     ]
    }
   ],
   "source": [
    "# Model / data parameters\n",
    "num_classes = 10\n",
    "input_shape = (28, 28, 1)\n",
    "\n",
    "# The data, split between train and test sets\n",
    "(X_train, y_train), (X_test, y_test) = keras.datasets.mnist.load_data()\n",
    "\n",
    "# Scale images to the [0, 1] range\n",
    "X_train = X_train.astype(\"float32\") / 255\n",
    "X_test = X_test.astype(\"float32\") / 255\n",
    "\n",
    "# Make sure images have shape (28, 28, 1)\n",
    "X_train = np.expand_dims(X_train, -1)\n",
    "X_test = np.expand_dims(X_test, -1)\n",
    "print(X_train.shape[0], \"train samples\")\n",
    "print(X_test.shape[0], \"test samples\")\n",
    "\n",
    "# Convert class vectors to binary class matrices\n",
    "y_train = keras.utils.to_categorical(y_train, num_classes)\n",
    "y_test = keras.utils.to_categorical(y_test, num_classes)"
   ]
  },
  {
   "cell_type": "markdown",
   "id": "f4ba4128",
   "metadata": {},
   "source": [
    "## Show single handwritten digit"
   ]
  },
  {
   "cell_type": "code",
   "execution_count": 5,
   "id": "4d0eb78d",
   "metadata": {},
   "outputs": [
    {
     "data": {
      "image/png": "[encoded data removed]",
      "text/plain": [
       "<Figure size 300x300 with 1 Axes>"
      ]
     },
     "metadata": {},
     "output_type": "display_data"
    }
   ],
   "source": [
    "image = X_train[5] # Change index to show other digits\n",
    "fig = plt.figure\n",
    "plt.figure(figsize=(3,3))\n",
    "plt.imshow(image, cmap='gray')\n",
    "plt.show()"
   ]
  },
  {
   "cell_type": "code",
   "execution_count": 6,
   "id": "3b6f6af8",
   "metadata": {},
   "outputs": [
    {
     "data": {
      "text/plain": [
       "(28, 28, 1)"
      ]
     },
     "execution_count": 6,
     "metadata": {},
     "output_type": "execute_result"
    }
   ],
   "source": [
    "# Shape of a single image\n",
    "X_train[5].shape"
   ]
  },
  {
   "cell_type": "markdown",
   "id": "5a8a507e",
   "metadata": {},
   "source": [
    "## Initialize the model"
   ]
  },
  {
   "cell_type": "code",
   "execution_count": 7,
   "id": "0c0cc3db",
   "metadata": {},
   "outputs": [],
   "source": [
    "# Initialize the model\n",
    "model = keras.Sequential(\n",
    "    [\n",
    "        keras.Input(shape=input_shape),\n",
    "        layers.Conv2D(32, kernel_size=(3, 3), activation=\"relu\"),\n",
    "        layers.MaxPooling2D(pool_size=(2, 2)),\n",
    "        layers.Conv2D(64, kernel_size=(3, 3), activation=\"relu\"),\n",
    "        layers.MaxPooling2D(pool_size=(2, 2)),\n",
    "        layers.Flatten(),\n",
    "        layers.Dropout(0.5),\n",
    "        layers.Dense(num_classes, activation=\"softmax\"),\n",
    "    ]\n",
    ")\n",
    "# model.summary()"
   ]
  },
  {
   "cell_type": "markdown",
   "id": "fc2c1d03",
   "metadata": {},
   "source": [
    "## Train the model"
   ]
  },
  {
   "cell_type": "code",
   "execution_count": 8,
   "id": "cf93a33e",
   "metadata": {},
   "outputs": [
    {
     "name": "stdout",
     "output_type": "stream",
     "text": [
      "Epoch 1/5\n",
      "422/422 [==============================] - 34s 75ms/step - loss: 0.3599 - accuracy: 0.8944 - val_loss: 0.0851 - val_accuracy: 0.9793\n",
      "Epoch 2/5\n",
      "422/422 [==============================] - 31s 74ms/step - loss: 0.1113 - accuracy: 0.9666 - val_loss: 0.0573 - val_accuracy: 0.9848\n",
      "Epoch 3/5\n",
      "422/422 [==============================] - 31s 74ms/step - loss: 0.0837 - accuracy: 0.9746 - val_loss: 0.0473 - val_accuracy: 0.9883\n",
      "Epoch 4/5\n",
      "422/422 [==============================] - 31s 74ms/step - loss: 0.0693 - accuracy: 0.9788 - val_loss: 0.0435 - val_accuracy: 0.9878\n",
      "Epoch 5/5\n",
      "422/422 [==============================] - 31s 74ms/step - loss: 0.0612 - accuracy: 0.9816 - val_loss: 0.0421 - val_accuracy: 0.9878\n"
     ]
    },
    {
     "data": {
      "text/plain": [
       "<keras.callbacks.History at 0x262958948e0>"
      ]
     },
     "execution_count": 8,
     "metadata": {},
     "output_type": "execute_result"
    }
   ],
   "source": [
    "# Define the batch size and number of epochs\n",
    "# Note:\n",
    "# The batch size is a number of samples processed \n",
    "# before the model is updated. The number of epochs \n",
    "# is the number of complete passes through the training \n",
    "# dataset. The size of a batch must be more than or equal \n",
    "# to one and less than or equal to the number of samples \n",
    "# in the training dataset.\n",
    "\n",
    "batch_size = 128\n",
    "epochs = 5\n",
    "\n",
    "# Train the model\n",
    "model.compile(loss=\"categorical_crossentropy\", optimizer=\"adam\", metrics=[\"accuracy\"])\n",
    "model.fit(X_train, y_train, batch_size=batch_size, epochs=epochs, validation_split=0.1)"
   ]
  },
  {
   "cell_type": "markdown",
   "id": "93da0e19",
   "metadata": {},
   "source": [
    "## Evaluate the trained model"
   ]
  },
  {
   "cell_type": "code",
   "execution_count": 9,
   "id": "64229ad5",
   "metadata": {},
   "outputs": [
    {
     "name": "stdout",
     "output_type": "stream",
     "text": [
      "Test accuracy: 0.9886\n"
     ]
    }
   ],
   "source": [
    "# Calculate accuracy based on the test data\n",
    "score = model.evaluate(X_test, y_test, verbose=0)\n",
    "print(f'Test accuracy: {score[1]:.4f}')"
   ]
  },
  {
   "cell_type": "markdown",
   "id": "c898470e",
   "metadata": {},
   "source": [
    "### Jupyter notebook --footer info-- (please always provide this at the end of each submitted notebook)"
   ]
  },
  {
   "cell_type": "code",
   "execution_count": 10,
   "id": "0c357eca",
   "metadata": {},
   "outputs": [
    {
     "name": "stdout",
     "output_type": "stream",
     "text": [
      "-----------------------------------\n",
      "NT\n",
      "Windows | 10\n",
      "Datetime: 2022-12-14 17:39:50\n",
      "Python Version: 3.9.13\n",
      "-----------------------------------\n"
     ]
    }
   ],
   "source": [
    "import os\n",
    "import platform\n",
    "import socket\n",
    "from platform import python_version\n",
    "from datetime import datetime\n",
    "\n",
    "print('-----------------------------------')\n",
    "print(os.name.upper())\n",
    "print(platform.system(), '|', platform.release())\n",
    "print('Datetime:', datetime.now().strftime(\"%Y-%m-%d %H:%M:%S\"))\n",
    "print('Python Version:', python_version())\n",
    "print('-----------------------------------')"
   ]
  },
  {
   "cell_type": "code",
   "execution_count": null,
   "id": "b19b4b36",
   "metadata": {},
   "outputs": [],
   "source": []
  }
 ],
 "metadata": {
  "kernelspec": {
   "display_name": "Python 3 (ipykernel)",
   "language": "python",
   "name": "python3"
  },
  "language_info": {
   "codemirror_mode": {
    "name": "ipython",
    "version": 3
   },
   "file_extension": ".py",
   "mimetype": "text/x-python",
   "name": "python",
   "nbconvert_exporter": "python",
   "pygments_lexer": "ipython3",
   "version": "3.9.13"
  }
 },
 "nbformat": 4,
 "nbformat_minor": 5
}
